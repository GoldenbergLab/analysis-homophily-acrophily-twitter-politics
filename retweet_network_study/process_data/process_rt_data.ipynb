{
 "cells": [
  {
   "cell_type": "code",
   "execution_count": 1,
   "id": "f0915819",
   "metadata": {},
   "outputs": [],
   "source": [
    "# Import libraries:\n",
    "import pandas as pd\n",
    "import numpy as np\n",
    "import os\n",
    "\n",
    "import sys\n",
    "\n",
    "appended_path = os.path.join('..', 'src', 'acrophily_sims')\n",
    "sys.path.append(appended_path)\n",
    "\n",
    "from acrophily_sims.data_prep import TwitterDataProcessor"
   ]
  },
  {
   "cell_type": "code",
   "execution_count": 3,
   "id": "b9565b8e",
   "metadata": {},
   "outputs": [],
   "source": [
    "def main(users_path = os.path.join('..', 'data', 'users_ratings.csv'),\n",
    "    rt_path = os.path.join('..', 'data', 'rt_network.csv')):\n",
    "    \n",
    "    df_left = (TwitterDataProcessor(poli_affil='left', \n",
    "                                      users_file=users_path, \n",
    "                                      rt_file=rt_path)\n",
    "                  .get_retweet_data()\n",
    "                 )\n",
    "    df_left['poli_affil'] = np.repeat('left', len(df_left))\n",
    "    \n",
    "    df_right = (TwitterDataProcessor(poli_affil='right',\n",
    "                                       users_file=users_path,\n",
    "                                       rt_file=rt_path)\n",
    "                   .get_retweet_data()\n",
    "                  )\n",
    "    df_right['poli_affil'] = np.repeat('right', len(df_right))\n",
    "    \n",
    "    df = pd.concat([df_left, df_right], axis=0)\n",
    "    df = df[df['rt'] <= 10]\n",
    "    df.to_csv('../data/rt_data_processed.csv', index=False)"
   ]
  },
  {
   "cell_type": "code",
   "execution_count": 4,
   "id": "7ed2b933",
   "metadata": {},
   "outputs": [
    {
     "name": "stdout",
     "output_type": "stream",
     "text": [
      "Loading unprocessed user rating and retweet network datasets.\n",
      "Datasets loaded. Processing and joining datasets.\n",
      "Datasets joined. Data successfully loaded.\n",
      "Loading unprocessed user rating and retweet network datasets.\n",
      "Datasets loaded. Processing and joining datasets.\n",
      "Datasets joined. Data successfully loaded.\n"
     ]
    }
   ],
   "source": [
    "main()"
   ]
  },
  {
   "cell_type": "code",
   "execution_count": null,
   "id": "fd83b85e",
   "metadata": {},
   "outputs": [],
   "source": []
  }
 ],
 "metadata": {
  "kernelspec": {
   "display_name": "Python 3 (ipykernel)",
   "language": "python",
   "name": "python3"
  },
  "language_info": {
   "codemirror_mode": {
    "name": "ipython",
    "version": 3
   },
   "file_extension": ".py",
   "mimetype": "text/x-python",
   "name": "python",
   "nbconvert_exporter": "python",
   "pygments_lexer": "ipython3",
   "version": "3.9.7"
  }
 },
 "nbformat": 4,
 "nbformat_minor": 5
}
