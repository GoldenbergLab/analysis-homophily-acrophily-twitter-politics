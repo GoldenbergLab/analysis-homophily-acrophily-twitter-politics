{
 "cells": [
  {
   "cell_type": "code",
   "execution_count": 1,
   "id": "f0915819",
   "metadata": {},
   "outputs": [],
   "source": [
    "import pandas as pd"
   ]
  },
  {
   "cell_type": "code",
   "execution_count": 10,
   "id": "d49575ca",
   "metadata": {},
   "outputs": [],
   "source": [
    "df = pd.read_csv('../data/user_coef_orig.csv')"
   ]
  },
  {
   "cell_type": "code",
   "execution_count": 11,
   "id": "d1009bf9",
   "metadata": {},
   "outputs": [
    {
     "data": {
      "text/html": [
       "<div>\n",
       "<style scoped>\n",
       "    .dataframe tbody tr th:only-of-type {\n",
       "        vertical-align: middle;\n",
       "    }\n",
       "\n",
       "    .dataframe tbody tr th {\n",
       "        vertical-align: top;\n",
       "    }\n",
       "\n",
       "    .dataframe thead th {\n",
       "        text-align: right;\n",
       "    }\n",
       "</style>\n",
       "<table border=\"1\" class=\"dataframe\">\n",
       "  <thead>\n",
       "    <tr style=\"text-align: right;\">\n",
       "      <th></th>\n",
       "      <th>userid</th>\n",
       "      <th>coef</th>\n",
       "      <th>affiliation</th>\n",
       "    </tr>\n",
       "  </thead>\n",
       "  <tbody>\n",
       "    <tr>\n",
       "      <th>0</th>\n",
       "      <td>140073</td>\n",
       "      <td>1.682065</td>\n",
       "      <td>cons</td>\n",
       "    </tr>\n",
       "    <tr>\n",
       "      <th>1</th>\n",
       "      <td>690293</td>\n",
       "      <td>0.216559</td>\n",
       "      <td>cons</td>\n",
       "    </tr>\n",
       "    <tr>\n",
       "      <th>2</th>\n",
       "      <td>818186</td>\n",
       "      <td>0.558911</td>\n",
       "      <td>cons</td>\n",
       "    </tr>\n",
       "    <tr>\n",
       "      <th>3</th>\n",
       "      <td>1366631</td>\n",
       "      <td>1.156811</td>\n",
       "      <td>cons</td>\n",
       "    </tr>\n",
       "    <tr>\n",
       "      <th>4</th>\n",
       "      <td>1457101</td>\n",
       "      <td>1.693252</td>\n",
       "      <td>cons</td>\n",
       "    </tr>\n",
       "  </tbody>\n",
       "</table>\n",
       "</div>"
      ],
      "text/plain": [
       "    userid      coef affiliation\n",
       "0   140073  1.682065        cons\n",
       "1   690293  0.216559        cons\n",
       "2   818186  0.558911        cons\n",
       "3  1366631  1.156811        cons\n",
       "4  1457101  1.693252        cons"
      ]
     },
     "execution_count": 11,
     "metadata": {},
     "output_type": "execute_result"
    }
   ],
   "source": [
    "df.head()"
   ]
  },
  {
   "cell_type": "code",
   "execution_count": 13,
   "id": "e3dc126b",
   "metadata": {},
   "outputs": [
    {
     "data": {
      "text/plain": [
       "25776"
      ]
     },
     "execution_count": 13,
     "metadata": {},
     "output_type": "execute_result"
    }
   ],
   "source": [
    "len(df[df['affiliation'] == 'cons'])"
   ]
  },
  {
   "cell_type": "code",
   "execution_count": 9,
   "id": "8d93a8eb",
   "metadata": {},
   "outputs": [],
   "source": [
    "df = pd.read_csv('../data/user_coef.csv')"
   ]
  },
  {
   "cell_type": "code",
   "execution_count": null,
   "id": "80a81e21",
   "metadata": {},
   "outputs": [],
   "source": []
  }
 ],
 "metadata": {
  "kernelspec": {
   "display_name": "Python 3 (ipykernel)",
   "language": "python",
   "name": "python3"
  },
  "language_info": {
   "codemirror_mode": {
    "name": "ipython",
    "version": 3
   },
   "file_extension": ".py",
   "mimetype": "text/x-python",
   "name": "python",
   "nbconvert_exporter": "python",
   "pygments_lexer": "ipython3",
   "version": "3.9.7"
  }
 },
 "nbformat": 4,
 "nbformat_minor": 5
}
