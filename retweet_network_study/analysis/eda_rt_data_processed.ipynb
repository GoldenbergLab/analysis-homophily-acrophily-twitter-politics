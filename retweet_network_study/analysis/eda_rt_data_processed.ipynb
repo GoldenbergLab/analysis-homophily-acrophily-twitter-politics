{
 "cells": [
  {
   "cell_type": "code",
   "execution_count": 1,
   "id": "7a634af8",
   "metadata": {},
   "outputs": [],
   "source": [
    "# Import libraries:\n",
    "import pandas as pd\n",
    "import numpy as np\n",
    "import os"
   ]
  },
  {
   "cell_type": "code",
   "execution_count": 7,
   "id": "f2d26962",
   "metadata": {},
   "outputs": [],
   "source": [
    "# Read in data:\n",
    "df = pd.read_csv('../data/rt_data_processed.csv')\n",
    "\n",
    "# Filter down to rt thresholds 1-5:\n",
    "df = df[df['rt'] <= 5]\n",
    "\n",
    "# Split into cons/libs:\n",
    "df_cons = df[df['poli_affil'] == 'right']\n",
    "df_libs = df[df['poli_affil'] == 'left']"
   ]
  },
  {
   "cell_type": "code",
   "execution_count": 8,
   "id": "c5e11ad4",
   "metadata": {},
   "outputs": [
    {
     "data": {
      "text/html": [
       "<div>\n",
       "<style scoped>\n",
       "    .dataframe tbody tr th:only-of-type {\n",
       "        vertical-align: middle;\n",
       "    }\n",
       "\n",
       "    .dataframe tbody tr th {\n",
       "        vertical-align: top;\n",
       "    }\n",
       "\n",
       "    .dataframe thead th {\n",
       "        text-align: right;\n",
       "    }\n",
       "</style>\n",
       "<table border=\"1\" class=\"dataframe\">\n",
       "  <thead>\n",
       "    <tr style=\"text-align: right;\">\n",
       "      <th></th>\n",
       "      <th>userid</th>\n",
       "      <th>rt_userid</th>\n",
       "      <th>rt</th>\n",
       "      <th>orig_rating_ego</th>\n",
       "      <th>orig_rating_peer</th>\n",
       "      <th>poli_affil</th>\n",
       "    </tr>\n",
       "  </thead>\n",
       "  <tbody>\n",
       "    <tr>\n",
       "      <th>0</th>\n",
       "      <td>785</td>\n",
       "      <td>2199541</td>\n",
       "      <td>1</td>\n",
       "      <td>0.8</td>\n",
       "      <td>1.142857</td>\n",
       "      <td>left</td>\n",
       "    </tr>\n",
       "    <tr>\n",
       "      <th>1</th>\n",
       "      <td>785</td>\n",
       "      <td>15464697</td>\n",
       "      <td>1</td>\n",
       "      <td>0.8</td>\n",
       "      <td>0.200000</td>\n",
       "      <td>left</td>\n",
       "    </tr>\n",
       "    <tr>\n",
       "      <th>2</th>\n",
       "      <td>785</td>\n",
       "      <td>15907183</td>\n",
       "      <td>1</td>\n",
       "      <td>0.8</td>\n",
       "      <td>0.428571</td>\n",
       "      <td>left</td>\n",
       "    </tr>\n",
       "    <tr>\n",
       "      <th>3</th>\n",
       "      <td>785</td>\n",
       "      <td>16471280</td>\n",
       "      <td>1</td>\n",
       "      <td>0.8</td>\n",
       "      <td>0.428571</td>\n",
       "      <td>left</td>\n",
       "    </tr>\n",
       "    <tr>\n",
       "      <th>4</th>\n",
       "      <td>785</td>\n",
       "      <td>19186003</td>\n",
       "      <td>1</td>\n",
       "      <td>0.8</td>\n",
       "      <td>0.904762</td>\n",
       "      <td>left</td>\n",
       "    </tr>\n",
       "  </tbody>\n",
       "</table>\n",
       "</div>"
      ],
      "text/plain": [
       "   userid  rt_userid  rt  orig_rating_ego  orig_rating_peer poli_affil\n",
       "0     785    2199541   1              0.8          1.142857       left\n",
       "1     785   15464697   1              0.8          0.200000       left\n",
       "2     785   15907183   1              0.8          0.428571       left\n",
       "3     785   16471280   1              0.8          0.428571       left\n",
       "4     785   19186003   1              0.8          0.904762       left"
      ]
     },
     "execution_count": 8,
     "metadata": {},
     "output_type": "execute_result"
    }
   ],
   "source": [
    "# Examine first five rows:\n",
    "df.head()"
   ]
  },
  {
   "cell_type": "code",
   "execution_count": 10,
   "id": "f646496e",
   "metadata": {},
   "outputs": [
    {
     "name": "stdout",
     "output_type": "stream",
     "text": [
      "Total users: 66693 (25639 conservatives and 41054 liberals)\n",
      "Total ego-alter connections: 3898327 (1553814 conservative and 2344513 liberal)\n",
      "Total retweets: 5722470 (2335428 conservative and 3387042 liberal)\n"
     ]
    }
   ],
   "source": [
    "# Total number of unique users (all/cons/libs):\n",
    "total_users = len(np.unique(df['userid']))\n",
    "total_cons = len(np.unique(df_cons['userid']))\n",
    "total_libs = len(np.unique(df_libs['userid']))\n",
    "print(f'Total users: {total_users} ({total_cons} conservatives and {total_libs} liberals)')\n",
    "\n",
    "# Total number of ego-alter relationships:\n",
    "total_connects = len(df)\n",
    "con_connects = len(df[df['poli_affil'] == 'right'])\n",
    "lib_connects = len(df[df['poli_affil'] == 'left'])\n",
    "print(f'Total ego-alter connections: {total_connects} ({con_connects} conservative and {lib_connects} liberal)')\n",
    "\n",
    "# Total number of retweets:\n",
    "total_rts = np.sum(df['rt'])\n",
    "con_total_rts = np.sum(df_cons['rt'])\n",
    "lib_total_rts = np.sum(df_libs['rt'])\n",
    "print(f'Total retweets: {total_rts} ({con_total_rts} conservative and {lib_total_rts} liberal)')"
   ]
  },
  {
   "cell_type": "markdown",
   "id": "ccd6bf70",
   "metadata": {},
   "source": [
    "For retweet thresholds 1-5, there are 66,693 unique egos (25,639 conservatives and 41,054 liberals) with 3,898,327 unique ego-alter connections (1,553,814 conservative and 2,344,513 liberal) and 5,722,470 total retweets among all connections (2,335,428 conservative and 3,387,042 liberal)."
   ]
  },
  {
   "cell_type": "code",
   "execution_count": null,
   "id": "bbbdc7e6",
   "metadata": {},
   "outputs": [],
   "source": []
  }
 ],
 "metadata": {
  "kernelspec": {
   "display_name": "Python 3 (ipykernel)",
   "language": "python",
   "name": "python3"
  },
  "language_info": {
   "codemirror_mode": {
    "name": "ipython",
    "version": 3
   },
   "file_extension": ".py",
   "mimetype": "text/x-python",
   "name": "python",
   "nbconvert_exporter": "python",
   "pygments_lexer": "ipython3",
   "version": "3.9.7"
  }
 },
 "nbformat": 4,
 "nbformat_minor": 5
}
