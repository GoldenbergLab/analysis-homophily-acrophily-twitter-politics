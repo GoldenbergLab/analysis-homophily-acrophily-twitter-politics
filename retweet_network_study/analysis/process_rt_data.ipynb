{
 "cells": [
  {
   "cell_type": "code",
   "execution_count": 2,
   "id": "f0915819",
   "metadata": {},
   "outputs": [],
   "source": [
    "# Import libraries:\n",
    "import pandas as pd\n",
    "import numpy as np\n",
    "import os\n",
    "import seaborn as sns\n",
    "import matplotlib.pyplot as plt\n",
    "from scipy.stats import skew, skewtest"
   ]
  },
  {
   "cell_type": "code",
   "execution_count": 3,
   "id": "d49575ca",
   "metadata": {},
   "outputs": [],
   "source": [
    "# Define data folder pathway:\n",
    "data_path = os.path.join('..', 'data')\n",
    "\n",
    "# Define dataset pathways:\n",
    "users_path = os.path.join(data_path, 'users_ratings.csv')\n",
    "rt_network_path = os.path.join(data_path, 'rt_network.csv')\n",
    "\n",
    "# Read in users data:\n",
    "users_df = pd.read_csv(users_path)\n",
    "\n",
    "# Read in retweet data:\n",
    "rt_df = pd.read_csv(rt_network_path)"
   ]
  },
  {
   "cell_type": "code",
   "execution_count": 4,
   "id": "80a81e21",
   "metadata": {},
   "outputs": [
    {
     "data": {
      "text/html": [
       "<div>\n",
       "<style scoped>\n",
       "    .dataframe tbody tr th:only-of-type {\n",
       "        vertical-align: middle;\n",
       "    }\n",
       "\n",
       "    .dataframe tbody tr th {\n",
       "        vertical-align: top;\n",
       "    }\n",
       "\n",
       "    .dataframe thead th {\n",
       "        text-align: right;\n",
       "    }\n",
       "</style>\n",
       "<table border=\"1\" class=\"dataframe\">\n",
       "  <thead>\n",
       "    <tr style=\"text-align: right;\">\n",
       "      <th></th>\n",
       "      <th>userid</th>\n",
       "      <th>orig_rating</th>\n",
       "      <th>orig_rated_count</th>\n",
       "      <th>orig_total_count</th>\n",
       "      <th>rtw_rating</th>\n",
       "      <th>rtw_rated_count</th>\n",
       "      <th>rtw_total_count</th>\n",
       "    </tr>\n",
       "  </thead>\n",
       "  <tbody>\n",
       "    <tr>\n",
       "      <th>0</th>\n",
       "      <td>15109931</td>\n",
       "      <td>NaN</td>\n",
       "      <td>NaN</td>\n",
       "      <td>NaN</td>\n",
       "      <td>0.833333</td>\n",
       "      <td>6.0</td>\n",
       "      <td>6.0</td>\n",
       "    </tr>\n",
       "    <tr>\n",
       "      <th>1</th>\n",
       "      <td>239232758</td>\n",
       "      <td>-1.666667</td>\n",
       "      <td>6.0</td>\n",
       "      <td>6.0</td>\n",
       "      <td>NaN</td>\n",
       "      <td>NaN</td>\n",
       "      <td>0.0</td>\n",
       "    </tr>\n",
       "    <tr>\n",
       "      <th>2</th>\n",
       "      <td>26362590</td>\n",
       "      <td>NaN</td>\n",
       "      <td>NaN</td>\n",
       "      <td>0.0</td>\n",
       "      <td>1.416667</td>\n",
       "      <td>12.0</td>\n",
       "      <td>12.0</td>\n",
       "    </tr>\n",
       "    <tr>\n",
       "      <th>3</th>\n",
       "      <td>1079483490968702978</td>\n",
       "      <td>NaN</td>\n",
       "      <td>NaN</td>\n",
       "      <td>NaN</td>\n",
       "      <td>1.333333</td>\n",
       "      <td>3.0</td>\n",
       "      <td>3.0</td>\n",
       "    </tr>\n",
       "    <tr>\n",
       "      <th>4</th>\n",
       "      <td>1048326771807068161</td>\n",
       "      <td>-1.666667</td>\n",
       "      <td>3.0</td>\n",
       "      <td>3.0</td>\n",
       "      <td>-1.000000</td>\n",
       "      <td>41.0</td>\n",
       "      <td>41.0</td>\n",
       "    </tr>\n",
       "  </tbody>\n",
       "</table>\n",
       "</div>"
      ],
      "text/plain": [
       "                userid  orig_rating  orig_rated_count  orig_total_count  \\\n",
       "0             15109931          NaN               NaN               NaN   \n",
       "1            239232758    -1.666667               6.0               6.0   \n",
       "2             26362590          NaN               NaN               0.0   \n",
       "3  1079483490968702978          NaN               NaN               NaN   \n",
       "4  1048326771807068161    -1.666667               3.0               3.0   \n",
       "\n",
       "   rtw_rating  rtw_rated_count  rtw_total_count  \n",
       "0    0.833333              6.0              6.0  \n",
       "1         NaN              NaN              0.0  \n",
       "2    1.416667             12.0             12.0  \n",
       "3    1.333333              3.0              3.0  \n",
       "4   -1.000000             41.0             41.0  "
      ]
     },
     "execution_count": 4,
     "metadata": {},
     "output_type": "execute_result"
    }
   ],
   "source": [
    "# View first five rows of users data:\n",
    "users_df.head()"
   ]
  },
  {
   "cell_type": "code",
   "execution_count": 5,
   "id": "efaa0241",
   "metadata": {},
   "outputs": [
    {
     "data": {
      "text/html": [
       "<div>\n",
       "<style scoped>\n",
       "    .dataframe tbody tr th:only-of-type {\n",
       "        vertical-align: middle;\n",
       "    }\n",
       "\n",
       "    .dataframe tbody tr th {\n",
       "        vertical-align: top;\n",
       "    }\n",
       "\n",
       "    .dataframe thead th {\n",
       "        text-align: right;\n",
       "    }\n",
       "</style>\n",
       "<table border=\"1\" class=\"dataframe\">\n",
       "  <thead>\n",
       "    <tr style=\"text-align: right;\">\n",
       "      <th></th>\n",
       "      <th>userid</th>\n",
       "      <th>rt_userid</th>\n",
       "      <th>rt</th>\n",
       "    </tr>\n",
       "  </thead>\n",
       "  <tbody>\n",
       "    <tr>\n",
       "      <th>0</th>\n",
       "      <td>57</td>\n",
       "      <td>15496005</td>\n",
       "      <td>1</td>\n",
       "    </tr>\n",
       "    <tr>\n",
       "      <th>1</th>\n",
       "      <td>57</td>\n",
       "      <td>15952856</td>\n",
       "      <td>1</td>\n",
       "    </tr>\n",
       "    <tr>\n",
       "      <th>2</th>\n",
       "      <td>57</td>\n",
       "      <td>17375057</td>\n",
       "      <td>1</td>\n",
       "    </tr>\n",
       "    <tr>\n",
       "      <th>3</th>\n",
       "      <td>57</td>\n",
       "      <td>19847765</td>\n",
       "      <td>1</td>\n",
       "    </tr>\n",
       "    <tr>\n",
       "      <th>4</th>\n",
       "      <td>57</td>\n",
       "      <td>84734907</td>\n",
       "      <td>1</td>\n",
       "    </tr>\n",
       "  </tbody>\n",
       "</table>\n",
       "</div>"
      ],
      "text/plain": [
       "   userid  rt_userid  rt\n",
       "0      57   15496005   1\n",
       "1      57   15952856   1\n",
       "2      57   17375057   1\n",
       "3      57   19847765   1\n",
       "4      57   84734907   1"
      ]
     },
     "execution_count": 5,
     "metadata": {},
     "output_type": "execute_result"
    }
   ],
   "source": [
    "# View first five rows of retweet data:\n",
    "rt_df.head()"
   ]
  },
  {
   "cell_type": "code",
   "execution_count": 6,
   "id": "db75cf97",
   "metadata": {},
   "outputs": [
    {
     "name": "stdout",
     "output_type": "stream",
     "text": [
      "total users: 1865559\n"
     ]
    }
   ],
   "source": [
    "# Number of unique users in dataset:\n",
    "n_users = len(np.unique(users_df['userid']))\n",
    "\n",
    "print(f'total users: {n_users}')"
   ]
  },
  {
   "cell_type": "code",
   "execution_count": 7,
   "id": "9d3d939b",
   "metadata": {},
   "outputs": [],
   "source": [
    "# Subset into liberal/conservative/moderate users:\n",
    "users_libs = users_df[users_df['orig_rating'] < 0]\n",
    "users_cons = users_df[users_df['orig_rating'] > 0]\n",
    "users_mod = users_df[users_df['orig_rating'] == 0]"
   ]
  },
  {
   "cell_type": "code",
   "execution_count": 8,
   "id": "7f173fde",
   "metadata": {},
   "outputs": [
    {
     "name": "stdout",
     "output_type": "stream",
     "text": [
      "total liberal users: 274437\n",
      "total conservative users: 147434\n",
      "total moderate users: 61544\n",
      "total with no political rating: 1382144\n"
     ]
    }
   ],
   "source": [
    "# Number of liberal/conservative/moderate users:\n",
    "n_libs = len(np.unique(users_libs['userid']))\n",
    "n_cons = len(np.unique(users_cons['userid']))\n",
    "n_mods = len(np.unique(users_mod['userid']))\n",
    "\n",
    "# Number of users without ratings:\n",
    "n_na = users_df['orig_rating'].isna().sum().sum()\n",
    "\n",
    "print(f'total liberal users: {n_libs}')\n",
    "print(f'total conservative users: {n_cons}')\n",
    "print(f'total moderate users: {n_mods}')\n",
    "print(f'total with no political rating: {n_na}')"
   ]
  },
  {
   "cell_type": "code",
   "execution_count": 9,
   "id": "7d0f591d",
   "metadata": {},
   "outputs": [
    {
     "name": "stdout",
     "output_type": "stream",
     "text": [
      "total users with ratings: 483415\n",
      "total partisan users: 421871\n"
     ]
    }
   ],
   "source": [
    "# Number of users with ratings:\n",
    "n_ratings = n_libs + n_cons + n_mods\n",
    "\n",
    "# Number of partisan users:\n",
    "n_partisan_ratings = n_libs + n_cons\n",
    "\n",
    "print(f'total users with ratings: {n_ratings}')\n",
    "print(f'total partisan users: {n_partisan_ratings}')"
   ]
  },
  {
   "cell_type": "code",
   "execution_count": 10,
   "id": "e2a425ff",
   "metadata": {},
   "outputs": [],
   "source": [
    "# Subset down to users with 5+ original tweets:\n",
    "users_min_tweets = users_df[users_df['orig_total_count'] >= 5]\n",
    "\n",
    "# View cons/libs with 5+ original tweets separately:\n",
    "cons = users_min_tweets[users_min_tweets['orig_rating'] > 0]\n",
    "libs = users_min_tweets[users_min_tweets['orig_rating'] < 0]"
   ]
  },
  {
   "cell_type": "code",
   "execution_count": 11,
   "id": "7d432fb8",
   "metadata": {},
   "outputs": [
    {
     "name": "stdout",
     "output_type": "stream",
     "text": [
      "Total number of conservative users with 5+ original tweets: 28688\n",
      "Total number of liberal users with 5+ original tweets: 48754\n"
     ]
    }
   ],
   "source": [
    "n_cons_above_min_tweets = len(np.unique(cons['userid']))\n",
    "n_libs_above_min_tweets = len(np.unique(libs['userid']))\n",
    "\n",
    "print(f'Total number of conservative users with 5+ original tweets: {n_cons_above_min_tweets}')\n",
    "print(f'Total number of liberal users with 5+ original tweets: {n_libs_above_min_tweets}')"
   ]
  },
  {
   "cell_type": "code",
   "execution_count": 12,
   "id": "0154dd1c",
   "metadata": {},
   "outputs": [],
   "source": [
    "user_df = pd.DataFrame({'userid': np.unique(users_min_tweets['userid'].values)})"
   ]
  },
  {
   "cell_type": "code",
   "execution_count": 13,
   "id": "316c22b3",
   "metadata": {},
   "outputs": [],
   "source": [
    "users_df = users_df[users_df['userid'].isin(users_min_tweets['userid'].values)]"
   ]
  },
  {
   "cell_type": "code",
   "execution_count": 14,
   "id": "8efff42e",
   "metadata": {},
   "outputs": [
    {
     "data": {
      "text/plain": [
       "userid                  0\n",
       "orig_rating             0\n",
       "orig_rated_count        0\n",
       "orig_total_count        0\n",
       "rtw_rating          23158\n",
       "rtw_rated_count     23158\n",
       "rtw_total_count      7220\n",
       "dtype: int64"
      ]
     },
     "execution_count": 14,
     "metadata": {},
     "output_type": "execute_result"
    }
   ],
   "source": [
    "users_df.isnull().sum()"
   ]
  },
  {
   "cell_type": "code",
   "execution_count": 15,
   "id": "839ce0b6",
   "metadata": {},
   "outputs": [],
   "source": [
    "# Subset retweet network ID to contain only egos and peers that meet min tweet threshold:\n",
    "cons_joined = rt_df[rt_df['userid'].isin(cons['userid']) \\\n",
    "                  & rt_df['rt_userid'].isin(cons['userid'])]\n",
    "\n",
    "# Filter out users who retweeted self:\n",
    "cons_joined = cons_joined[cons_joined['userid'] != cons_joined['rt_userid']]"
   ]
  },
  {
   "cell_type": "code",
   "execution_count": 16,
   "id": "0dd59239",
   "metadata": {},
   "outputs": [],
   "source": [
    "# Subsetting retweet network ID to contain only egos and peers that meet min tweet threshold:\n",
    "libs_joined = rt_df[rt_df['userid'].isin(libs['userid']) \\\n",
    "                  & rt_df['rt_userid'].isin(libs['userid'])]\n",
    "#r_r = r_r.sample(frac=0.2)\n",
    "\n",
    "libs_joined = libs_joined[libs_joined['userid'] != libs_joined['rt_userid']]"
   ]
  },
  {
   "cell_type": "code",
   "execution_count": 25,
   "id": "c2b5752b",
   "metadata": {},
   "outputs": [],
   "source": [
    "cons_joined_red = cons_joined[cons_joined['rt'] <= 10]\n",
    "libs_joined_red = libs_joined[libs_joined['rt'] <= 10]"
   ]
  },
  {
   "cell_type": "code",
   "execution_count": 26,
   "id": "48455c92",
   "metadata": {},
   "outputs": [
    {
     "name": "stdout",
     "output_type": "stream",
     "text": [
      "Final number of conservative users: 25776\n",
      "Final number of liberal users: 41107\n"
     ]
    }
   ],
   "source": [
    "n_cons_final = len(np.unique(cons_joined['userid']))\n",
    "n_libs_final = len(np.unique(libs_joined['userid']))\n",
    "\n",
    "print(f'Final number of conservative users: {n_cons_final}')\n",
    "print(f'Final number of liberal users: {n_libs_final}')"
   ]
  },
  {
   "cell_type": "code",
   "execution_count": 28,
   "id": "40871fcc",
   "metadata": {},
   "outputs": [
    {
     "name": "stdout",
     "output_type": "stream",
     "text": [
      "Final number of conservative users (reduced retweet threshold dataset): 25701\n",
      "Final number of liberal users (reduced retweet threshold dataset): 41086\n"
     ]
    }
   ],
   "source": [
    "n_cons_final_red = len(np.unique(cons_joined_red['userid']))\n",
    "n_libs_final_red = len(np.unique(libs_joined_red['userid']))\n",
    "\n",
    "print(f'Final number of conservative users (reduced retweet threshold dataset): {n_cons_final_red}')\n",
    "print(f'Final number of liberal users (reduced retweet threshold dataset): {n_libs_final_red}')"
   ]
  },
  {
   "cell_type": "code",
   "execution_count": 73,
   "id": "05401f51",
   "metadata": {},
   "outputs": [
    {
     "data": {
      "text/html": [
       "<div>\n",
       "<style scoped>\n",
       "    .dataframe tbody tr th:only-of-type {\n",
       "        vertical-align: middle;\n",
       "    }\n",
       "\n",
       "    .dataframe tbody tr th {\n",
       "        vertical-align: top;\n",
       "    }\n",
       "\n",
       "    .dataframe thead th {\n",
       "        text-align: right;\n",
       "    }\n",
       "</style>\n",
       "<table border=\"1\" class=\"dataframe\">\n",
       "  <thead>\n",
       "    <tr style=\"text-align: right;\">\n",
       "      <th></th>\n",
       "      <th>userid</th>\n",
       "      <th>rt_userid</th>\n",
       "      <th>rt</th>\n",
       "    </tr>\n",
       "  </thead>\n",
       "  <tbody>\n",
       "    <tr>\n",
       "      <th>15874</th>\n",
       "      <td>140073</td>\n",
       "      <td>6782762</td>\n",
       "      <td>1</td>\n",
       "    </tr>\n",
       "    <tr>\n",
       "      <th>15875</th>\n",
       "      <td>140073</td>\n",
       "      <td>11134252</td>\n",
       "      <td>1</td>\n",
       "    </tr>\n",
       "    <tr>\n",
       "      <th>15877</th>\n",
       "      <td>140073</td>\n",
       "      <td>14828860</td>\n",
       "      <td>1</td>\n",
       "    </tr>\n",
       "    <tr>\n",
       "      <th>15879</th>\n",
       "      <td>140073</td>\n",
       "      <td>15212187</td>\n",
       "      <td>1</td>\n",
       "    </tr>\n",
       "    <tr>\n",
       "      <th>15883</th>\n",
       "      <td>140073</td>\n",
       "      <td>16106584</td>\n",
       "      <td>4</td>\n",
       "    </tr>\n",
       "    <tr>\n",
       "      <th>...</th>\n",
       "      <td>...</td>\n",
       "      <td>...</td>\n",
       "      <td>...</td>\n",
       "    </tr>\n",
       "    <tr>\n",
       "      <th>16231</th>\n",
       "      <td>140073</td>\n",
       "      <td>1212806053907185664</td>\n",
       "      <td>2</td>\n",
       "    </tr>\n",
       "    <tr>\n",
       "      <th>16236</th>\n",
       "      <td>140073</td>\n",
       "      <td>1225101644184137728</td>\n",
       "      <td>2</td>\n",
       "    </tr>\n",
       "    <tr>\n",
       "      <th>16255</th>\n",
       "      <td>140073</td>\n",
       "      <td>1276321291012763648</td>\n",
       "      <td>1</td>\n",
       "    </tr>\n",
       "    <tr>\n",
       "      <th>16263</th>\n",
       "      <td>140073</td>\n",
       "      <td>1286817922296446976</td>\n",
       "      <td>1</td>\n",
       "    </tr>\n",
       "    <tr>\n",
       "      <th>16266</th>\n",
       "      <td>140073</td>\n",
       "      <td>1291994988352421888</td>\n",
       "      <td>1</td>\n",
       "    </tr>\n",
       "  </tbody>\n",
       "</table>\n",
       "<p>91 rows × 3 columns</p>\n",
       "</div>"
      ],
      "text/plain": [
       "       userid            rt_userid  rt\n",
       "15874  140073              6782762   1\n",
       "15875  140073             11134252   1\n",
       "15877  140073             14828860   1\n",
       "15879  140073             15212187   1\n",
       "15883  140073             16106584   4\n",
       "...       ...                  ...  ..\n",
       "16231  140073  1212806053907185664   2\n",
       "16236  140073  1225101644184137728   2\n",
       "16255  140073  1276321291012763648   1\n",
       "16263  140073  1286817922296446976   1\n",
       "16266  140073  1291994988352421888   1\n",
       "\n",
       "[91 rows x 3 columns]"
      ]
     },
     "execution_count": 73,
     "metadata": {},
     "output_type": "execute_result"
    }
   ],
   "source": [
    "all_joined[all_joined['userid'] == 140073]"
   ]
  },
  {
   "cell_type": "code",
   "execution_count": 18,
   "id": "06705b5e",
   "metadata": {},
   "outputs": [
    {
     "name": "stdout",
     "output_type": "stream",
     "text": [
      "Total number of ego-peer relationships among conservatives: 1723179\n",
      "Total number of ego-peer relationships among liberals: 2535764\n"
     ]
    }
   ],
   "source": [
    "print(f'Total number of ego-peer relationships among conservatives: {len(cons_joined)}')\n",
    "print(f'Total number of ego-peer relationships among liberals: {len(libs_joined)}')"
   ]
  },
  {
   "cell_type": "code",
   "execution_count": 31,
   "id": "ab83b41a",
   "metadata": {},
   "outputs": [
    {
     "name": "stdout",
     "output_type": "stream",
     "text": [
      "Total number of ego-peer relationships among conservatives (reduced threshold data): 1636070\n",
      "Total number of ego-peer relationships among liberals (reduced threshold data): 2444472\n"
     ]
    }
   ],
   "source": [
    "print(f'Total number of ego-peer relationships among conservatives (reduced threshold data): {len(cons_joined_red)}')\n",
    "print(f'Total number of ego-peer relationships among liberals (reduced threshold data): {len(libs_joined_red)}')"
   ]
  },
  {
   "cell_type": "code",
   "execution_count": 19,
   "id": "ff110820",
   "metadata": {},
   "outputs": [
    {
     "name": "stdout",
     "output_type": "stream",
     "text": [
      "Total number of retweets among conservatives: 8682758\n",
      "Total number of retweets among liberals: 7292209\n"
     ]
    }
   ],
   "source": [
    "n_rt_cons = np.sum(cons_joined['rt'])\n",
    "n_rt_libs = np.sum(libs_joined['rt'])\n",
    "\n",
    "print(f'Total number of retweets among conservatives: {n_rt_cons}')\n",
    "print(f'Total number of retweets among liberals: {n_rt_libs}')"
   ]
  },
  {
   "cell_type": "code",
   "execution_count": 54,
   "id": "62537269",
   "metadata": {},
   "outputs": [],
   "source": [
    "all_joined = pd.concat([cons_joined, libs_joined], axis=0)"
   ]
  },
  {
   "cell_type": "code",
   "execution_count": 55,
   "id": "c9359c35",
   "metadata": {},
   "outputs": [
    {
     "data": {
      "text/plain": [
       "(4258943, 3)"
      ]
     },
     "execution_count": 55,
     "metadata": {},
     "output_type": "execute_result"
    }
   ],
   "source": [
    "all_joined.shape"
   ]
  },
  {
   "cell_type": "code",
   "execution_count": 56,
   "id": "f2aba54e",
   "metadata": {},
   "outputs": [
    {
     "data": {
      "text/plain": [
       "(4258943, 3)"
      ]
     },
     "execution_count": 56,
     "metadata": {},
     "output_type": "execute_result"
    }
   ],
   "source": [
    "all_joined.shape"
   ]
  },
  {
   "cell_type": "code",
   "execution_count": 57,
   "id": "4534911c",
   "metadata": {},
   "outputs": [
    {
     "data": {
      "text/plain": [
       "(4258943, 3)"
      ]
     },
     "execution_count": 57,
     "metadata": {},
     "output_type": "execute_result"
    }
   ],
   "source": [
    "all_joined.shape"
   ]
  },
  {
   "cell_type": "code",
   "execution_count": 58,
   "id": "4674b864",
   "metadata": {},
   "outputs": [
    {
     "data": {
      "text/html": [
       "<div>\n",
       "<style scoped>\n",
       "    .dataframe tbody tr th:only-of-type {\n",
       "        vertical-align: middle;\n",
       "    }\n",
       "\n",
       "    .dataframe tbody tr th {\n",
       "        vertical-align: top;\n",
       "    }\n",
       "\n",
       "    .dataframe thead th {\n",
       "        text-align: right;\n",
       "    }\n",
       "</style>\n",
       "<table border=\"1\" class=\"dataframe\">\n",
       "  <thead>\n",
       "    <tr style=\"text-align: right;\">\n",
       "      <th></th>\n",
       "      <th>userid</th>\n",
       "      <th>rt_userid</th>\n",
       "      <th>rt</th>\n",
       "    </tr>\n",
       "  </thead>\n",
       "  <tbody>\n",
       "    <tr>\n",
       "      <th>15874</th>\n",
       "      <td>140073</td>\n",
       "      <td>6782762</td>\n",
       "      <td>1</td>\n",
       "    </tr>\n",
       "    <tr>\n",
       "      <th>15875</th>\n",
       "      <td>140073</td>\n",
       "      <td>11134252</td>\n",
       "      <td>1</td>\n",
       "    </tr>\n",
       "    <tr>\n",
       "      <th>15877</th>\n",
       "      <td>140073</td>\n",
       "      <td>14828860</td>\n",
       "      <td>1</td>\n",
       "    </tr>\n",
       "    <tr>\n",
       "      <th>15879</th>\n",
       "      <td>140073</td>\n",
       "      <td>15212187</td>\n",
       "      <td>1</td>\n",
       "    </tr>\n",
       "    <tr>\n",
       "      <th>15883</th>\n",
       "      <td>140073</td>\n",
       "      <td>16106584</td>\n",
       "      <td>4</td>\n",
       "    </tr>\n",
       "  </tbody>\n",
       "</table>\n",
       "</div>"
      ],
      "text/plain": [
       "       userid  rt_userid  rt\n",
       "15874  140073    6782762   1\n",
       "15875  140073   11134252   1\n",
       "15877  140073   14828860   1\n",
       "15879  140073   15212187   1\n",
       "15883  140073   16106584   4"
      ]
     },
     "execution_count": 58,
     "metadata": {},
     "output_type": "execute_result"
    }
   ],
   "source": [
    "all_joined.head()"
   ]
  },
  {
   "cell_type": "code",
   "execution_count": 59,
   "id": "7eede017",
   "metadata": {},
   "outputs": [],
   "source": [
    "#all_joined.to_csv('../data/processed_rt_user_data.csv', index=False)"
   ]
  },
  {
   "cell_type": "code",
   "execution_count": 60,
   "id": "b3d30020",
   "metadata": {},
   "outputs": [],
   "source": [
    "pct_agg_func = lambda x: np.round(100*(len(x) / len(all_joined)), \n",
    "                                            decimals=2)\n",
    "threshold_df = (all_joined\n",
    "                    .groupby('rt')\n",
    "                    .agg(count=('userid', 'count'),\n",
    "                         pct=('userid', pct_agg_func))\n",
    "                    .iloc[:10])"
   ]
  },
  {
   "cell_type": "code",
   "execution_count": 61,
   "id": "4b6c5dd6",
   "metadata": {},
   "outputs": [
    {
     "data": {
      "text/html": [
       "<div>\n",
       "<style scoped>\n",
       "    .dataframe tbody tr th:only-of-type {\n",
       "        vertical-align: middle;\n",
       "    }\n",
       "\n",
       "    .dataframe tbody tr th {\n",
       "        vertical-align: top;\n",
       "    }\n",
       "\n",
       "    .dataframe thead th {\n",
       "        text-align: right;\n",
       "    }\n",
       "</style>\n",
       "<table border=\"1\" class=\"dataframe\">\n",
       "  <thead>\n",
       "    <tr style=\"text-align: right;\">\n",
       "      <th></th>\n",
       "      <th>count</th>\n",
       "      <th>pct</th>\n",
       "    </tr>\n",
       "    <tr>\n",
       "      <th>rt</th>\n",
       "      <th></th>\n",
       "      <th></th>\n",
       "    </tr>\n",
       "  </thead>\n",
       "  <tbody>\n",
       "    <tr>\n",
       "      <th>1</th>\n",
       "      <td>2850973</td>\n",
       "      <td>66.94</td>\n",
       "    </tr>\n",
       "    <tr>\n",
       "      <th>2</th>\n",
       "      <td>579019</td>\n",
       "      <td>13.60</td>\n",
       "    </tr>\n",
       "    <tr>\n",
       "      <th>3</th>\n",
       "      <td>245973</td>\n",
       "      <td>5.78</td>\n",
       "    </tr>\n",
       "    <tr>\n",
       "      <th>4</th>\n",
       "      <td>136270</td>\n",
       "      <td>3.20</td>\n",
       "    </tr>\n",
       "    <tr>\n",
       "      <th>5</th>\n",
       "      <td>86092</td>\n",
       "      <td>2.02</td>\n",
       "    </tr>\n",
       "    <tr>\n",
       "      <th>6</th>\n",
       "      <td>58964</td>\n",
       "      <td>1.38</td>\n",
       "    </tr>\n",
       "    <tr>\n",
       "      <th>7</th>\n",
       "      <td>43525</td>\n",
       "      <td>1.02</td>\n",
       "    </tr>\n",
       "    <tr>\n",
       "      <th>8</th>\n",
       "      <td>32935</td>\n",
       "      <td>0.77</td>\n",
       "    </tr>\n",
       "    <tr>\n",
       "      <th>9</th>\n",
       "      <td>26042</td>\n",
       "      <td>0.61</td>\n",
       "    </tr>\n",
       "    <tr>\n",
       "      <th>10</th>\n",
       "      <td>20749</td>\n",
       "      <td>0.49</td>\n",
       "    </tr>\n",
       "  </tbody>\n",
       "</table>\n",
       "</div>"
      ],
      "text/plain": [
       "      count    pct\n",
       "rt                \n",
       "1   2850973  66.94\n",
       "2    579019  13.60\n",
       "3    245973   5.78\n",
       "4    136270   3.20\n",
       "5     86092   2.02\n",
       "6     58964   1.38\n",
       "7     43525   1.02\n",
       "8     32935   0.77\n",
       "9     26042   0.61\n",
       "10    20749   0.49"
      ]
     },
     "execution_count": 61,
     "metadata": {},
     "output_type": "execute_result"
    }
   ],
   "source": [
    "threshold_df"
   ]
  },
  {
   "cell_type": "code",
   "execution_count": 62,
   "id": "69759230",
   "metadata": {},
   "outputs": [
    {
     "data": {
      "text/plain": [
       "4258943"
      ]
     },
     "execution_count": 62,
     "metadata": {},
     "output_type": "execute_result"
    }
   ],
   "source": [
    "len(all_joined)"
   ]
  },
  {
   "cell_type": "code",
   "execution_count": 68,
   "id": "53dbaebf",
   "metadata": {},
   "outputs": [
    {
     "data": {
      "text/plain": [
       "4080542"
      ]
     },
     "execution_count": 68,
     "metadata": {},
     "output_type": "execute_result"
    }
   ],
   "source": [
    "np.sum(threshold_df['count'])"
   ]
  },
  {
   "cell_type": "code",
   "execution_count": 69,
   "id": "51517033",
   "metadata": {},
   "outputs": [
    {
     "data": {
      "text/plain": [
       "4080542"
      ]
     },
     "execution_count": 69,
     "metadata": {},
     "output_type": "execute_result"
    }
   ],
   "source": [
    "len(cons_joined_red) + len(libs_joined_red)"
   ]
  },
  {
   "cell_type": "code",
   "execution_count": 66,
   "id": "d48ad3ba",
   "metadata": {},
   "outputs": [
    {
     "data": {
      "image/png": "[encoded data removed]",
      "text/plain": [
       "<Figure size 640x480 with 1 Axes>"
      ]
     },
     "metadata": {},
     "output_type": "display_data"
    }
   ],
   "source": [
    "threshold_props = threshold_df['pct']\n",
    "rt_vals = threshold_df.index.values\n",
    "\n",
    "ax = sns.barplot(x=rt_vals, y=threshold_props)\n",
    "for i in ax.containers:\n",
    "    ax.bar_label(i,)\n",
    "\n",
    "plt.title('Percent of Data by Retweet Count')\n",
    "plt.xlabel('Retweet Count')\n",
    "plt.ylabel('Percent')\n",
    "plt.savefig('../figures/percent_of_data_by_rt_count.png')\n",
    "plt.show();"
   ]
  },
  {
   "cell_type": "code",
   "execution_count": 67,
   "id": "399011fe",
   "metadata": {
    "scrolled": true
   },
   "outputs": [
    {
     "data": {
      "image/png": "[encoded data removed]",
      "text/plain": [
       "<Figure size 640x480 with 1 Axes>"
      ]
     },
     "metadata": {},
     "output_type": "display_data"
    }
   ],
   "source": [
    "threshold_counts = threshold_df['count']\n",
    "ax = sns.barplot(x=rt_vals, y=threshold_counts)\n",
    "for i in ax.containers:\n",
    "    ax.bar_label(i,)\n",
    "\n",
    "plt.title('Count of Data by Retweet Count')\n",
    "plt.xlabel('Retweet Count')\n",
    "plt.ylabel('Count')\n",
    "plt.savefig('../figures/count_of_data_by_rt_count.png')\n",
    "plt.show();"
   ]
  },
  {
   "cell_type": "code",
   "execution_count": 70,
   "id": "b6f19772",
   "metadata": {},
   "outputs": [],
   "source": [
    "threshold_df.to_csv('../data/counts_pcts_by_retweet_count.csv')"
   ]
  },
  {
   "cell_type": "code",
   "execution_count": 1,
   "id": "a79d6a93",
   "metadata": {},
   "outputs": [
    {
     "ename": "NameError",
     "evalue": "name 'os' is not defined",
     "output_type": "error",
     "traceback": [
      "\u001b[0;31m---------------------------------------------------------------------------\u001b[0m",
      "\u001b[0;31mNameError\u001b[0m                                 Traceback (most recent call last)",
      "Cell \u001b[0;32mIn [1], line 2\u001b[0m\n\u001b[1;32m      1\u001b[0m \u001b[38;5;66;03m# Define class TwitterDataProcessor:\u001b[39;00m\n\u001b[0;32m----> 2\u001b[0m \u001b[38;5;28;01mclass\u001b[39;00m \u001b[38;5;21;01mTwitterDataProcessor\u001b[39;00m:\n\u001b[1;32m      3\u001b[0m     \u001b[38;5;124;03m\"\"\"\u001b[39;00m\n\u001b[1;32m      4\u001b[0m \u001b[38;5;124;03m    The TwitterDataProcessor class takes six parameters:\u001b[39;00m\n\u001b[1;32m      5\u001b[0m \n\u001b[0;32m   (...)\u001b[0m\n\u001b[1;32m     24\u001b[0m \u001b[38;5;124;03m    The main function get_retweet_data calls these functions in succession to create the final dataset.\u001b[39;00m\n\u001b[1;32m     25\u001b[0m \u001b[38;5;124;03m    \"\"\"\u001b[39;00m\n\u001b[1;32m     27\u001b[0m     \u001b[38;5;28;01mdef\u001b[39;00m \u001b[38;5;21m__init__\u001b[39m(\u001b[38;5;28mself\u001b[39m, poli_affil, frac_data\u001b[38;5;241m=\u001b[39m\u001b[38;5;28;01mFalse\u001b[39;00m, frac_start\u001b[38;5;241m=\u001b[39m\u001b[38;5;28;01mNone\u001b[39;00m, frac_end\u001b[38;5;241m=\u001b[39m\u001b[38;5;28;01mNone\u001b[39;00m,\n\u001b[1;32m     28\u001b[0m                  users_file\u001b[38;5;241m=\u001b[39mos\u001b[38;5;241m.\u001b[39mpath\u001b[38;5;241m.\u001b[39mjoin(\u001b[38;5;124m'\u001b[39m\u001b[38;5;124m..\u001b[39m\u001b[38;5;124m'\u001b[39m, \u001b[38;5;124m'\u001b[39m\u001b[38;5;124mdata\u001b[39m\u001b[38;5;124m'\u001b[39m, \u001b[38;5;124m'\u001b[39m\u001b[38;5;124musers_ratings.csv\u001b[39m\u001b[38;5;124m'\u001b[39m), \n\u001b[1;32m     29\u001b[0m                  rt_file\u001b[38;5;241m=\u001b[39mos\u001b[38;5;241m.\u001b[39mpath\u001b[38;5;241m.\u001b[39mjoin(\u001b[38;5;124m'\u001b[39m\u001b[38;5;124m..\u001b[39m\u001b[38;5;124m'\u001b[39m, \u001b[38;5;124m'\u001b[39m\u001b[38;5;124mdata\u001b[39m\u001b[38;5;124m'\u001b[39m, \u001b[38;5;124m'\u001b[39m\u001b[38;5;124mrt_network.csv\u001b[39m\u001b[38;5;124m'\u001b[39m)):\n\u001b[1;32m     30\u001b[0m \n\u001b[1;32m     31\u001b[0m         \u001b[38;5;66;03m# Initialize political affiliation and data fraction attributes:\u001b[39;00m\n",
      "Cell \u001b[0;32mIn [1], line 28\u001b[0m, in \u001b[0;36mTwitterDataProcessor\u001b[0;34m()\u001b[0m\n\u001b[1;32m      2\u001b[0m \u001b[38;5;28;01mclass\u001b[39;00m \u001b[38;5;21;01mTwitterDataProcessor\u001b[39;00m:\n\u001b[1;32m      3\u001b[0m     \u001b[38;5;124;03m\"\"\"\u001b[39;00m\n\u001b[1;32m      4\u001b[0m \u001b[38;5;124;03m    The TwitterDataProcessor class takes six parameters:\u001b[39;00m\n\u001b[1;32m      5\u001b[0m \n\u001b[0;32m   (...)\u001b[0m\n\u001b[1;32m     24\u001b[0m \u001b[38;5;124;03m    The main function get_retweet_data calls these functions in succession to create the final dataset.\u001b[39;00m\n\u001b[1;32m     25\u001b[0m \u001b[38;5;124;03m    \"\"\"\u001b[39;00m\n\u001b[1;32m     27\u001b[0m     \u001b[38;5;28;01mdef\u001b[39;00m \u001b[38;5;21m__init__\u001b[39m(\u001b[38;5;28mself\u001b[39m, poli_affil, frac_data\u001b[38;5;241m=\u001b[39m\u001b[38;5;28;01mFalse\u001b[39;00m, frac_start\u001b[38;5;241m=\u001b[39m\u001b[38;5;28;01mNone\u001b[39;00m, frac_end\u001b[38;5;241m=\u001b[39m\u001b[38;5;28;01mNone\u001b[39;00m,\n\u001b[0;32m---> 28\u001b[0m                  users_file\u001b[38;5;241m=\u001b[39m\u001b[43mos\u001b[49m\u001b[38;5;241m.\u001b[39mpath\u001b[38;5;241m.\u001b[39mjoin(\u001b[38;5;124m'\u001b[39m\u001b[38;5;124m..\u001b[39m\u001b[38;5;124m'\u001b[39m, \u001b[38;5;124m'\u001b[39m\u001b[38;5;124mdata\u001b[39m\u001b[38;5;124m'\u001b[39m, \u001b[38;5;124m'\u001b[39m\u001b[38;5;124musers_ratings.csv\u001b[39m\u001b[38;5;124m'\u001b[39m), \n\u001b[1;32m     29\u001b[0m                  rt_file\u001b[38;5;241m=\u001b[39mos\u001b[38;5;241m.\u001b[39mpath\u001b[38;5;241m.\u001b[39mjoin(\u001b[38;5;124m'\u001b[39m\u001b[38;5;124m..\u001b[39m\u001b[38;5;124m'\u001b[39m, \u001b[38;5;124m'\u001b[39m\u001b[38;5;124mdata\u001b[39m\u001b[38;5;124m'\u001b[39m, \u001b[38;5;124m'\u001b[39m\u001b[38;5;124mrt_network.csv\u001b[39m\u001b[38;5;124m'\u001b[39m)):\n\u001b[1;32m     30\u001b[0m \n\u001b[1;32m     31\u001b[0m         \u001b[38;5;66;03m# Initialize political affiliation and data fraction attributes:\u001b[39;00m\n\u001b[1;32m     32\u001b[0m         \u001b[38;5;28mself\u001b[39m\u001b[38;5;241m.\u001b[39mpoli_affil \u001b[38;5;241m=\u001b[39m poli_affil\n\u001b[1;32m     33\u001b[0m         \u001b[38;5;28mself\u001b[39m\u001b[38;5;241m.\u001b[39mfrac_data \u001b[38;5;241m=\u001b[39m frac_data\n",
      "\u001b[0;31mNameError\u001b[0m: name 'os' is not defined"
     ]
    }
   ],
   "source": [
    "# Define class TwitterDataProcessor:\n",
    "class TwitterDataProcessor:\n",
    "    \"\"\"\n",
    "    The TwitterDataProcessor class takes six parameters:\n",
    "\n",
    "    1. poli_affil: the political affiliation ('left' or 'right') of users for which we wish to run the simulation\n",
    "    2. frac_data: whether we wish to run the simulation on only a fraction of the data.\n",
    "    3. frac_start: the starting percentage of users (in decimal form) if frac_data set to True\n",
    "    4. frac_end: the ending percentage of users (in decimal form) if frac_data set to True\n",
    "    5. users_file: The users ratings dataset CSV file path.\n",
    "    6. rt_fle: The retweet network dataset CSV file path.\n",
    "\n",
    "    There are three main functions:\n",
    "\n",
    "    1. load_raw_data: This function loads the raw data for both the users ratings and retweet network datasets.\n",
    "    2. preprocess_data: This function performs the following preprocessing steps for the data:\n",
    "        - It subsets the users dataframe based on the chosen political affiliation on which to run the simulation.\n",
    "        - It filters out both egos and peers with original tweet counts of less than 5 in both dataframes.\n",
    "        - It filters out cases where egos retweeted themselves in the retweet dataframe.\n",
    "        - It subsets down to the chosen fraction of users (if frac_data set to True) in the retweet dataframe.\n",
    "    3. join_data: This function joins the users ratings dataset with the retweet dataset and suffixes to\n",
    "    distinguish between ego and peer ratings.\n",
    "\n",
    "    The main function get_retweet_data calls these functions in succession to create the final dataset.\n",
    "    \"\"\"\n",
    "\n",
    "    def __init__(self, poli_affil, frac_data=False, frac_start=None, frac_end=None,\n",
    "                 users_file=os.path.join('..', 'data', 'users_ratings.csv'), \n",
    "                 rt_file=os.path.join('..', 'data', 'rt_network.csv')):\n",
    "\n",
    "        # Initialize political affiliation and data fraction attributes:\n",
    "        self.poli_affil = poli_affil\n",
    "        self.frac_data = frac_data\n",
    "        self.frac_start = frac_start\n",
    "        self.frac_end = frac_end\n",
    "\n",
    "        # Initialize data files:\n",
    "        self.users_file = users_file\n",
    "        self.rt_file = rt_file\n",
    "\n",
    "        # Initializing dataframes:\n",
    "        self.users_df = pd.DataFrame()\n",
    "        self.rt_df = pd.DataFrame()\n",
    "\n",
    "    # Function to load raw data:\n",
    "    def load_raw_data(self):\n",
    "\n",
    "        print('Loading unprocessed user rating and retweet network datasets.', flush=True)\n",
    "\n",
    "        # Load user ratings dataframe if file path exists:\n",
    "        if os.path.exists(self.users_file):\n",
    "            self.users_df = pd.read_csv(self.users_file)\n",
    "            self.users_df = self.users_df.set_index('userid')\n",
    "        else:\n",
    "            return 'Users ratings file does not exist.'\n",
    "\n",
    "        # Define retweet network dataframe if file path exists:\n",
    "        if os.path.exists(self.rt_file):\n",
    "            self.rt_df = pd.read_csv(self.rt_file)\n",
    "\n",
    "        print('Datasets loaded. Processing and joining datasets.', flush=True)\n",
    "\n",
    "    # Function to preprocess loaded raw data:\n",
    "    def preprocess_data(self, min_tweets=5):\n",
    "\n",
    "        # Subset to conservative ego ratings:\n",
    "        if self.poli_affil == 'right':\n",
    "            self.users_df = self.users_df[self.users_df['orig_rating'] > 0]\n",
    "\n",
    "        # Subset to liberal ego ratings and convert ratings to positive scale:\n",
    "        elif self.poli_affil == 'left':\n",
    "            self.users_df = self.users_df[self.users_df['orig_rating'] < 0]\n",
    "            self.users_df['orig_rating'] = self.users_df['orig_rating'] * -1\n",
    "\n",
    "        # Subset based on min tweet threshold:\n",
    "        self.users_df = self.users_df[self.users_df['orig_total_count'] >= min_tweets]\n",
    "\n",
    "        # Subset retweet network ID to contain only egos and peers that meet min tweet threshold:\n",
    "        userid_condition = self.rt_df['userid'].isin(self.users_df.index)\n",
    "        rt_userid_condition = self.rt_df['rt_userid'].isin(self.users_df.index)\n",
    "        self.rt_df = self.rt_df[userid_condition & rt_userid_condition]\n",
    "\n",
    "        # Remove observations where user retweeted self\n",
    "        self.rt_df = self.rt_df[self.rt_df['userid'] != self.rt_df['rt_userid']]\n",
    "\n",
    "        # Subset fraction of users if needed to speed up simulation:\n",
    "        if self.frac_data:\n",
    "\n",
    "            # Get unique user ID values:\n",
    "            all_users = np.unique(self.rt_df['userid'].values)\n",
    "\n",
    "            # Subset to specified fraction of users:\n",
    "            n_users_start = int(self.frac_start*len(all_users))\n",
    "            n_users_end = int(len(all_users) * self.frac_end)\n",
    "            users_fraction = all_users[n_users_start:n_users_end]\n",
    "\n",
    "            # Return dataset with only user IDs in specified fraction:\n",
    "            self.rt_df = self.rt_df[self.rt_df['userid'].isin(users_fraction)]\n",
    "\n",
    "    # Function to join dataframes:\n",
    "    def join_data(self):\n",
    "\n",
    "        # Join on user ID and retweet user ID:\n",
    "        self.rt_df = self.rt_df.join(self.users_df[['orig_rating']],\n",
    "                                     on='userid').join(self.users_df[['orig_rating']],\n",
    "                                                       on='rt_userid',\n",
    "                                                       rsuffix='_peer')\\\n",
    "            .rename(columns={'orig_rating': 'orig_rating_ego'})\n",
    "\n",
    "        print('Datasets joined. Data successfully loaded.', flush=True)\n",
    "\n",
    "    # Main function that returns final dataframe:\n",
    "    def get_retweet_data(self):\n",
    "        self.load_raw_data()\n",
    "        self.preprocess_data()\n",
    "        self.join_data()\n",
    "\n",
    "        return self.rt_df\n"
   ]
  },
  {
   "cell_type": "code",
   "execution_count": 3,
   "id": "b9565b8e",
   "metadata": {},
   "outputs": [
    {
     "name": "stdout",
     "output_type": "stream",
     "text": [
      "Loading unprocessed user rating and retweet network datasets.\n",
      "Datasets loaded. Processing and joining datasets.\n",
      "Datasets joined. Data successfully loaded.\n"
     ]
    }
   ],
   "source": [
    "rt_df_left = TwitterDataProcessor(poli_affil='left').get_retweet_data()"
   ]
  },
  {
   "cell_type": "code",
   "execution_count": 7,
   "id": "7ba83d24",
   "metadata": {},
   "outputs": [],
   "source": [
    "rt_df_left['poli_affil'] = np.repeat('left', len(rt_df_left))"
   ]
  },
  {
   "cell_type": "code",
   "execution_count": 6,
   "id": "94f3ee6b",
   "metadata": {},
   "outputs": [],
   "source": [
    "peer_ratings_left = rt_df_left['orig_rating_peer'].values\n",
    "skewness_left = skewtest(peer_ratings_left)"
   ]
  },
  {
   "cell_type": "code",
   "execution_count": 9,
   "id": "9f3e0cd5",
   "metadata": {},
   "outputs": [
    {
     "data": {
      "text/plain": [
       "0.9347909632886446"
      ]
     },
     "execution_count": 9,
     "metadata": {},
     "output_type": "execute_result"
    }
   ],
   "source": [
    "skew(peer_ratings_left)"
   ]
  },
  {
   "cell_type": "code",
   "execution_count": 7,
   "id": "05448ab9",
   "metadata": {},
   "outputs": [
    {
     "data": {
      "text/plain": [
       "SkewtestResult(statistic=520.2962758137397, pvalue=0.0)"
      ]
     },
     "execution_count": 7,
     "metadata": {},
     "output_type": "execute_result"
    }
   ],
   "source": [
    "skewness_left"
   ]
  },
  {
   "cell_type": "code",
   "execution_count": 39,
   "id": "92e85aa2",
   "metadata": {},
   "outputs": [
    {
     "name": "stderr",
     "output_type": "stream",
     "text": [
      "/Users/davidbailey/opt/anaconda3/lib/python3.9/site-packages/seaborn/distributions.py:2619: FutureWarning: `distplot` is a deprecated function and will be removed in a future version. Please adapt your code to use either `displot` (a figure-level function with similar flexibility) or `histplot` (an axes-level function for histograms).\n",
      "  warnings.warn(msg, FutureWarning)\n"
     ]
    },
    {
     "data": {
      "text/plain": [
       "<AxesSubplot:ylabel='Density'>"
      ]
     },
     "execution_count": 39,
     "metadata": {},
     "output_type": "execute_result"
    },
    {
     "data": {
      "image/png": "[encoded data removed]",
      "text/plain": [
       "<Figure size 432x288 with 1 Axes>"
      ]
     },
     "metadata": {
      "needs_background": "light"
     },
     "output_type": "display_data"
    }
   ],
   "source": [
    "sns.distplot(peer_ratings_left)"
   ]
  },
  {
   "cell_type": "code",
   "execution_count": 4,
   "id": "0ad571cd",
   "metadata": {},
   "outputs": [
    {
     "name": "stdout",
     "output_type": "stream",
     "text": [
      "Loading unprocessed user rating and retweet network datasets.\n",
      "Datasets loaded. Processing and joining datasets.\n",
      "Datasets joined. Data successfully loaded.\n"
     ]
    }
   ],
   "source": [
    "rt_df_right = TwitterDataProcessor(poli_affil='right').get_retweet_data()"
   ]
  },
  {
   "cell_type": "code",
   "execution_count": 8,
   "id": "beb946a4",
   "metadata": {},
   "outputs": [],
   "source": [
    "rt_df_right['poli_affil'] = np.repeat('right', len(rt_df_right))"
   ]
  },
  {
   "cell_type": "code",
   "execution_count": 13,
   "id": "3a7768a1",
   "metadata": {},
   "outputs": [],
   "source": [
    "peer_ratings_right = rt_df_right['orig_rating_peer'].values\n",
    "skewness_right = skewtest(peer_ratings_right)"
   ]
  },
  {
   "cell_type": "code",
   "execution_count": 14,
   "id": "50b6737e",
   "metadata": {},
   "outputs": [
    {
     "data": {
      "text/plain": [
       "-0.23836555230365006"
      ]
     },
     "execution_count": 14,
     "metadata": {},
     "output_type": "execute_result"
    }
   ],
   "source": [
    "skew(peer_ratings_right)"
   ]
  },
  {
   "cell_type": "code",
   "execution_count": 15,
   "id": "43eaa8ae",
   "metadata": {},
   "outputs": [
    {
     "data": {
      "text/plain": [
       "SkewtestResult(statistic=-125.99412016657624, pvalue=0.0)"
      ]
     },
     "execution_count": 15,
     "metadata": {},
     "output_type": "execute_result"
    }
   ],
   "source": [
    "skewness_right"
   ]
  },
  {
   "cell_type": "code",
   "execution_count": 45,
   "id": "711f3b35",
   "metadata": {},
   "outputs": [
    {
     "name": "stderr",
     "output_type": "stream",
     "text": [
      "/Users/davidbailey/opt/anaconda3/lib/python3.9/site-packages/seaborn/distributions.py:2619: FutureWarning: `distplot` is a deprecated function and will be removed in a future version. Please adapt your code to use either `displot` (a figure-level function with similar flexibility) or `histplot` (an axes-level function for histograms).\n",
      "  warnings.warn(msg, FutureWarning)\n"
     ]
    },
    {
     "data": {
      "text/plain": [
       "<AxesSubplot:ylabel='Density'>"
      ]
     },
     "execution_count": 45,
     "metadata": {},
     "output_type": "execute_result"
    },
    {
     "data": {
      "image/png": "[encoded data removed]",
      "text/plain": [
       "<Figure size 432x288 with 1 Axes>"
      ]
     },
     "metadata": {
      "needs_background": "light"
     },
     "output_type": "display_data"
    }
   ],
   "source": [
    "sns.distplot(peer_ratings_right)"
   ]
  },
  {
   "cell_type": "code",
   "execution_count": 9,
   "id": "dd00ef95",
   "metadata": {},
   "outputs": [],
   "source": [
    "rt_df_all = pd.concat([rt_df_left, rt_df_right], axis=0)\n",
    "rt_df_all.to_csv('../data/rt_data_processed.csv', index=False)"
   ]
  },
  {
   "cell_type": "code",
   "execution_count": 10,
   "id": "0e93854c",
   "metadata": {},
   "outputs": [
    {
     "data": {
      "text/html": [
       "<div>\n",
       "<style scoped>\n",
       "    .dataframe tbody tr th:only-of-type {\n",
       "        vertical-align: middle;\n",
       "    }\n",
       "\n",
       "    .dataframe tbody tr th {\n",
       "        vertical-align: top;\n",
       "    }\n",
       "\n",
       "    .dataframe thead th {\n",
       "        text-align: right;\n",
       "    }\n",
       "</style>\n",
       "<table border=\"1\" class=\"dataframe\">\n",
       "  <thead>\n",
       "    <tr style=\"text-align: right;\">\n",
       "      <th></th>\n",
       "      <th>userid</th>\n",
       "      <th>rt_userid</th>\n",
       "      <th>rt</th>\n",
       "      <th>orig_rating_ego</th>\n",
       "      <th>orig_rating_peer</th>\n",
       "      <th>poli_affil</th>\n",
       "    </tr>\n",
       "  </thead>\n",
       "  <tbody>\n",
       "    <tr>\n",
       "      <th>698</th>\n",
       "      <td>785</td>\n",
       "      <td>939091</td>\n",
       "      <td>14</td>\n",
       "      <td>0.8</td>\n",
       "      <td>0.916667</td>\n",
       "      <td>left</td>\n",
       "    </tr>\n",
       "    <tr>\n",
       "      <th>699</th>\n",
       "      <td>785</td>\n",
       "      <td>2199541</td>\n",
       "      <td>1</td>\n",
       "      <td>0.8</td>\n",
       "      <td>1.142857</td>\n",
       "      <td>left</td>\n",
       "    </tr>\n",
       "    <tr>\n",
       "      <th>702</th>\n",
       "      <td>785</td>\n",
       "      <td>15464697</td>\n",
       "      <td>1</td>\n",
       "      <td>0.8</td>\n",
       "      <td>0.200000</td>\n",
       "      <td>left</td>\n",
       "    </tr>\n",
       "    <tr>\n",
       "      <th>703</th>\n",
       "      <td>785</td>\n",
       "      <td>15907183</td>\n",
       "      <td>1</td>\n",
       "      <td>0.8</td>\n",
       "      <td>0.428571</td>\n",
       "      <td>left</td>\n",
       "    </tr>\n",
       "    <tr>\n",
       "      <th>704</th>\n",
       "      <td>785</td>\n",
       "      <td>16471280</td>\n",
       "      <td>1</td>\n",
       "      <td>0.8</td>\n",
       "      <td>0.428571</td>\n",
       "      <td>left</td>\n",
       "    </tr>\n",
       "  </tbody>\n",
       "</table>\n",
       "</div>"
      ],
      "text/plain": [
       "     userid  rt_userid  rt  orig_rating_ego  orig_rating_peer poli_affil\n",
       "698     785     939091  14              0.8          0.916667       left\n",
       "699     785    2199541   1              0.8          1.142857       left\n",
       "702     785   15464697   1              0.8          0.200000       left\n",
       "703     785   15907183   1              0.8          0.428571       left\n",
       "704     785   16471280   1              0.8          0.428571       left"
      ]
     },
     "execution_count": 10,
     "metadata": {},
     "output_type": "execute_result"
    }
   ],
   "source": [
    "rt_df_all.head()"
   ]
  },
  {
   "cell_type": "code",
   "execution_count": null,
   "id": "8826cf91",
   "metadata": {},
   "outputs": [],
   "source": []
  }
 ],
 "metadata": {
  "kernelspec": {
   "display_name": "Python 3 (ipykernel)",
   "language": "python",
   "name": "python3"
  },
  "language_info": {
   "codemirror_mode": {
    "name": "ipython",
    "version": 3
   },
   "file_extension": ".py",
   "mimetype": "text/x-python",
   "name": "python",
   "nbconvert_exporter": "python",
   "pygments_lexer": "ipython3",
   "version": "3.9.7"
  }
 },
 "nbformat": 4,
 "nbformat_minor": 5
}
